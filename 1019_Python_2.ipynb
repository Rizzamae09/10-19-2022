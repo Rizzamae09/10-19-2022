{
  "nbformat": 4,
  "nbformat_minor": 0,
  "metadata": {
    "colab": {
      "provenance": [],
      "authorship_tag": "ABX9TyOO8Z6E5ACmTWAH6+G5V+W8",
      "include_colab_link": true
    },
    "kernelspec": {
      "name": "python3",
      "display_name": "Python 3"
    },
    "language_info": {
      "name": "python"
    }
  },
  "cells": [
    {
      "cell_type": "markdown",
      "metadata": {
        "id": "view-in-github",
        "colab_type": "text"
      },
      "source": [
        "<a href=\"https://colab.research.google.com/github/Rizzamae09/10-19-2022/blob/main/1019_Python_2.ipynb\" target=\"_parent\"><img src=\"https://colab.research.google.com/assets/colab-badge.svg\" alt=\"Open In Colab\"/></a>"
      ]
    },
    {
      "cell_type": "markdown",
      "source": [
        "4110E225 艾麗藻\n",
        "\n",
        "\n",
        "Python for loops.\n",
        "\n",
        "Loop through the letters in the word \"Canada\":"
      ],
      "metadata": {
        "id": "4KwvFdOrRimn"
      }
    },
    {
      "cell_type": "code",
      "source": [
        "for x in \"Canada\":\n",
        "  print(x) \n"
      ],
      "metadata": {
        "colab": {
          "base_uri": "https://localhost:8080/"
        },
        "id": "RTeUBWL2RmpT",
        "outputId": "b15e3fec-1ab0-4579-bab8-b25d162e37bb"
      },
      "execution_count": 1,
      "outputs": [
        {
          "output_type": "stream",
          "name": "stdout",
          "text": [
            "C\n",
            "a\n",
            "n\n",
            "a\n",
            "d\n",
            "a\n"
          ]
        }
      ]
    },
    {
      "cell_type": "markdown",
      "source": [
        "With the break statement we can stop the loop before it has looped through all the items:"
      ],
      "metadata": {
        "id": "xFPnMcO2Sru5"
      }
    },
    {
      "cell_type": "code",
      "source": [
        "countries = [\"Canada\", \"Cambodia\", \"Colombia\"]\n",
        "for x in countries:\n",
        "  print(x)\n",
        "  if x == \"Canada\":\n",
        "    break"
      ],
      "metadata": {
        "colab": {
          "base_uri": "https://localhost:8080/"
        },
        "id": "HVkIgG0qSDUY",
        "outputId": "3cd5cec1-fef5-41a7-d7bf-b68f04df8a25"
      },
      "execution_count": 17,
      "outputs": [
        {
          "output_type": "stream",
          "name": "stdout",
          "text": [
            "Canada\n"
          ]
        }
      ]
    },
    {
      "cell_type": "markdown",
      "source": [
        "Exit the loop when x is \"Colombia\":"
      ],
      "metadata": {
        "id": "Yn1CMv66SzH1"
      }
    },
    {
      "cell_type": "code",
      "source": [
        "countries = [\"Canada\", \"Cambodia\", \"Colombia\"]\n",
        "for x in countries:\n",
        "  if x == \"Colombia\":\n",
        "    break\n",
        "  print(x)"
      ],
      "metadata": {
        "colab": {
          "base_uri": "https://localhost:8080/"
        },
        "id": "MCLE5UAOTAwJ",
        "outputId": "da74f0c2-9c5e-4621-a900-62b27ee921e8"
      },
      "execution_count": 16,
      "outputs": [
        {
          "output_type": "stream",
          "name": "stdout",
          "text": [
            "Canada\n",
            "Cambodia\n"
          ]
        }
      ]
    },
    {
      "cell_type": "markdown",
      "source": [
        "With the continue statement we can stop the current iteration of the loop, and continue with the next:"
      ],
      "metadata": {
        "id": "Qxpo2ZhpTnuQ"
      }
    },
    {
      "cell_type": "code",
      "source": [
        "countries = [\"Canada\", \"Cambodia\", \"Colombia\"]\n",
        "for x in countries:\n",
        "  if x == \"Canada\":\n",
        "    continue\n",
        "  print(x)"
      ],
      "metadata": {
        "colab": {
          "base_uri": "https://localhost:8080/"
        },
        "id": "7uI38UaFTsrn",
        "outputId": "72f1349e-6853-4765-a955-56c43b310a10"
      },
      "execution_count": 14,
      "outputs": [
        {
          "output_type": "stream",
          "name": "stdout",
          "text": [
            "Cambodia\n",
            "Colombia\n"
          ]
        }
      ]
    },
    {
      "cell_type": "markdown",
      "source": [
        "To loop through a set of code a specified number of times, we can use the range() function,\n",
        "The range() function returns a sequence of numbers, starting from 0 by default, and increments by 1 (by default), and ends at a specified number."
      ],
      "metadata": {
        "id": "TBUmWHQoUEWB"
      }
    },
    {
      "cell_type": "code",
      "source": [
        "for x in range(14):\n",
        "  print(x)"
      ],
      "metadata": {
        "colab": {
          "base_uri": "https://localhost:8080/"
        },
        "id": "KGU4-xS2UJ4e",
        "outputId": "44345f3c-8be6-4339-d16e-f4486a14bf51"
      },
      "execution_count": 8,
      "outputs": [
        {
          "output_type": "stream",
          "name": "stdout",
          "text": [
            "0\n",
            "1\n",
            "2\n",
            "3\n",
            "4\n",
            "5\n",
            "6\n",
            "7\n",
            "8\n",
            "9\n",
            "10\n",
            "11\n",
            "12\n",
            "13\n"
          ]
        }
      ]
    },
    {
      "cell_type": "markdown",
      "source": [
        "Using the start parameter:"
      ],
      "metadata": {
        "id": "36dHCaOcUrBd"
      }
    },
    {
      "cell_type": "code",
      "source": [
        "for x in range(15, 19):\n",
        "  print(x)"
      ],
      "metadata": {
        "colab": {
          "base_uri": "https://localhost:8080/"
        },
        "id": "E_nwBuj4UuCl",
        "outputId": "536cd496-6056-415d-e36d-120843f92916"
      },
      "execution_count": 10,
      "outputs": [
        {
          "output_type": "stream",
          "name": "stdout",
          "text": [
            "15\n",
            "16\n",
            "17\n",
            "18\n"
          ]
        }
      ]
    },
    {
      "cell_type": "markdown",
      "source": [
        "Increment the sequence with 3 (default is 1):"
      ],
      "metadata": {
        "id": "mU_QIyPYU9CN"
      }
    },
    {
      "cell_type": "code",
      "source": [
        "for x in range(2, 30, 3):\n",
        "  print(x)"
      ],
      "metadata": {
        "colab": {
          "base_uri": "https://localhost:8080/"
        },
        "id": "F_lUp_VvU-ky",
        "outputId": "a3e522b7-3383-44f7-e50c-d14a43b793ed"
      },
      "execution_count": 11,
      "outputs": [
        {
          "output_type": "stream",
          "name": "stdout",
          "text": [
            "2\n",
            "5\n",
            "8\n",
            "11\n",
            "14\n",
            "17\n",
            "20\n",
            "23\n",
            "26\n",
            "29\n"
          ]
        }
      ]
    },
    {
      "cell_type": "markdown",
      "source": [
        "Print all numbers from 0 to 13, and print a message when the loop has ended:"
      ],
      "metadata": {
        "id": "XUvEBA6uVSYH"
      }
    },
    {
      "cell_type": "code",
      "source": [
        "for x in range(14):\n",
        "  print(x)\n",
        "else:\n",
        "  print(\"Finally finished!\")"
      ],
      "metadata": {
        "colab": {
          "base_uri": "https://localhost:8080/"
        },
        "id": "GNivS_rEVXr0",
        "outputId": "314c4ea1-1e82-4d52-ecd7-07a26eaaa89e"
      },
      "execution_count": 12,
      "outputs": [
        {
          "output_type": "stream",
          "name": "stdout",
          "text": [
            "0\n",
            "1\n",
            "2\n",
            "3\n",
            "4\n",
            "5\n",
            "6\n",
            "7\n",
            "8\n",
            "9\n",
            "10\n",
            "11\n",
            "12\n",
            "13\n",
            "Finally finished!\n"
          ]
        }
      ]
    },
    {
      "cell_type": "markdown",
      "source": [
        "Break the loop when x is 3, and see what happens with the else block:"
      ],
      "metadata": {
        "id": "S2Xp5M1MVljM"
      }
    },
    {
      "cell_type": "code",
      "source": [
        "for x in range(14):\n",
        "  if x == 9: break\n",
        "  print(x)\n",
        "else:\n",
        "  print(\"Finally finished!\")"
      ],
      "metadata": {
        "colab": {
          "base_uri": "https://localhost:8080/"
        },
        "id": "THrO1VCaVpaE",
        "outputId": "5f32db03-413c-483e-d848-5b717e0cb1bf"
      },
      "execution_count": 13,
      "outputs": [
        {
          "output_type": "stream",
          "name": "stdout",
          "text": [
            "0\n",
            "1\n",
            "2\n",
            "3\n",
            "4\n",
            "5\n",
            "6\n",
            "7\n",
            "8\n"
          ]
        }
      ]
    },
    {
      "cell_type": "markdown",
      "source": [
        "Print each adjective for every country:"
      ],
      "metadata": {
        "id": "Cj0Tkv62V0Fy"
      }
    },
    {
      "cell_type": "code",
      "source": [
        "adj = [\"Beautiful\", \"Amazing\", \"Wonderful\"]\n",
        "countriess = [\"Canada\", \"Cambodia\", \"Colombia\"]\n",
        "\n",
        "for x in adj:\n",
        "  for y in countries:\n",
        "    print(x, y)"
      ],
      "metadata": {
        "colab": {
          "base_uri": "https://localhost:8080/"
        },
        "id": "YayGL5muV7iv",
        "outputId": "ec5d6ec1-380d-407f-e203-a9bf5a6be2ab"
      },
      "execution_count": 19,
      "outputs": [
        {
          "output_type": "stream",
          "name": "stdout",
          "text": [
            "Beautiful Canada\n",
            "Beautiful Cambodia\n",
            "Beautiful Colombia\n",
            "Amazing Canada\n",
            "Amazing Cambodia\n",
            "Amazing Colombia\n",
            "Wonderful Canada\n",
            "Wonderful Cambodia\n",
            "Wonderful Colombia\n"
          ]
        }
      ]
    },
    {
      "cell_type": "markdown",
      "source": [
        "for loops cannot be empty, but if you for some reason have a for loop with no content, put in the pass statement to avoid getting an error."
      ],
      "metadata": {
        "id": "RFel3QYuXuxc"
      }
    },
    {
      "cell_type": "code",
      "source": [
        "for x in [13, 15, 18]:\n",
        "  pass"
      ],
      "metadata": {
        "id": "uoF98FkSXzIP"
      },
      "execution_count": 20,
      "outputs": []
    }
  ]
}