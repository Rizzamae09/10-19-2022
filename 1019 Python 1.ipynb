{
  "cells": [
    {
      "cell_type": "markdown",
      "metadata": {
        "id": "view-in-github",
        "colab_type": "text"
      },
      "source": [
        "<a href=\"https://colab.research.google.com/github/Rizzamae09/10-19-2022/blob/main/1019%20Python%201.ipynb\" target=\"_parent\"><img src=\"https://colab.research.google.com/assets/colab-badge.svg\" alt=\"Open In Colab\"/></a>"
      ]
    },
    {
      "cell_type": "markdown",
      "source": [
        "Python Conditions and \"if\" statements.\n",
        "\n",
        "Exercise: 1\n",
        "Print \"Hello World\" if a is greater than b."
      ],
      "metadata": {
        "id": "-oPJcQ8qIId9"
      }
    },
    {
      "cell_type": "code",
      "source": [
        "a = 50\n",
        "b = 10\n",
        "if a > b:\n",
        "  print(\"Hello World\")"
      ],
      "metadata": {
        "id": "qfrbDsBcIPzT",
        "outputId": "c6b3baa7-6b7e-484f-8c83-13c5b442edcc",
        "colab": {
          "base_uri": "https://localhost:8080/"
        }
      },
      "execution_count": 5,
      "outputs": [
        {
          "output_type": "stream",
          "name": "stdout",
          "text": [
            "Hello World\n"
          ]
        }
      ]
    },
    {
      "cell_type": "markdown",
      "source": [
        "Exercise: 2\n",
        "Print \"Hello World\" if a is not equal to b."
      ],
      "metadata": {
        "id": "BONOzA4TJZVc"
      }
    },
    {
      "cell_type": "code",
      "source": [
        "a = 50\n",
        "b = 10\n",
        "if a!= b:\n",
        "\n",
        "  print(\"Hello World\")"
      ],
      "metadata": {
        "id": "YpxDHEhVJhoP",
        "outputId": "f072ed18-4ce6-42c8-b7b0-ff226c41c11e",
        "colab": {
          "base_uri": "https://localhost:8080/"
        }
      },
      "execution_count": 6,
      "outputs": [
        {
          "output_type": "stream",
          "name": "stdout",
          "text": [
            "Hello World\n"
          ]
        }
      ]
    },
    {
      "cell_type": "markdown",
      "source": [
        "Exercise: 3\n",
        "Print \"Yes\" if a is equal to b, otherwise print \"No\"."
      ],
      "metadata": {
        "id": "D5cAEF-VKVjA"
      }
    },
    {
      "cell_type": "code",
      "source": [
        "a = 50\n",
        "b = 10\n",
        "if a == b:\n",
        "\n",
        "  print(\"Yes\")\n",
        "else:\n",
        "\n",
        "  print(\"No\")"
      ],
      "metadata": {
        "id": "oC4DsCnjK54R",
        "outputId": "65d271c2-07f6-4d3c-d096-d39d9d9c16e0",
        "colab": {
          "base_uri": "https://localhost:8080/"
        }
      },
      "execution_count": 7,
      "outputs": [
        {
          "output_type": "stream",
          "name": "stdout",
          "text": [
            "No\n"
          ]
        }
      ]
    },
    {
      "cell_type": "markdown",
      "source": [
        "Exercise: 4\n",
        "Print \"1\" if a is equal to b, print \"2\" if a is greater than b, otherwise print \"3\"."
      ],
      "metadata": {
        "id": "ZIOO5KgXLjbN"
      }
    },
    {
      "cell_type": "code",
      "source": [
        "a = 50\n",
        "b = 10\n",
        "if a == b:\n",
        "  print(\"1\")\n",
        "elif a > b:\n",
        "  print(\"2\")\n",
        "else:\n",
        "  print(\"3\")"
      ],
      "metadata": {
        "id": "bPsJlQ66LoMY",
        "outputId": "c0c1b962-c715-43c4-bb82-737595b9c905",
        "colab": {
          "base_uri": "https://localhost:8080/"
        }
      },
      "execution_count": 8,
      "outputs": [
        {
          "output_type": "stream",
          "name": "stdout",
          "text": [
            "2\n"
          ]
        }
      ]
    },
    {
      "cell_type": "markdown",
      "source": [
        "Exercise: 5\n",
        "Print \"Hello\" if a is equal to b, and c is equal to d."
      ],
      "metadata": {
        "id": "fwJ1crFoMFLx"
      }
    },
    {
      "cell_type": "code",
      "source": [
        "if a == b and c == d:\n",
        "  print(\"Hello\")"
      ],
      "metadata": {
        "id": "__xMxs99MVca"
      },
      "execution_count": 14,
      "outputs": []
    },
    {
      "cell_type": "markdown",
      "source": [
        "Exercise: 6\n",
        "Print \"Hello\" if a is equal to b, or if c is equal to d."
      ],
      "metadata": {
        "id": "3WLzjT1lOWtx"
      }
    },
    {
      "cell_type": "code",
      "source": [
        "if a == a or a == b:\n",
        "  print(\"Hello\")"
      ],
      "metadata": {
        "id": "aIGkSHrgO5F6",
        "outputId": "9e2253a0-296e-4e51-8c25-20947ce6110c",
        "colab": {
          "base_uri": "https://localhost:8080/"
        }
      },
      "execution_count": 18,
      "outputs": [
        {
          "output_type": "stream",
          "name": "stdout",
          "text": [
            "Hello\n"
          ]
        }
      ]
    },
    {
      "cell_type": "markdown",
      "source": [
        "Exercise: 7\n",
        "This example misses indentations to be correct.\n",
        "\n",
        "Insert the missing indentation to make the code correct:"
      ],
      "metadata": {
        "id": "eh4QpP1DPUDT"
      }
    },
    {
      "cell_type": "code",
      "source": [
        "if 5 > 2:\n",
        "  print(\"Five is greater than two!\")"
      ],
      "metadata": {
        "id": "uvVyhsRCPc6v",
        "outputId": "c953163d-1527-42dd-bd17-4670177f0eb2",
        "colab": {
          "base_uri": "https://localhost:8080/"
        }
      },
      "execution_count": 19,
      "outputs": [
        {
          "output_type": "stream",
          "name": "stdout",
          "text": [
            "Five is greater than two!\n"
          ]
        }
      ]
    },
    {
      "cell_type": "markdown",
      "source": [
        "Exercise: 8\n",
        "Use the correct short hand syntax to put the following statement on one line:"
      ],
      "metadata": {
        "id": "rb8hSDqgPjW4"
      }
    },
    {
      "cell_type": "code",
      "source": [
        "if 5 > 2:print(\"Five is greater than two!\")"
      ],
      "metadata": {
        "id": "mZwIFubZPtGv",
        "outputId": "5efdd301-ce1a-4cab-e495-9ce4adf44333",
        "colab": {
          "base_uri": "https://localhost:8080/"
        }
      },
      "execution_count": 20,
      "outputs": [
        {
          "output_type": "stream",
          "name": "stdout",
          "text": [
            "Five is greater than two!\n"
          ]
        }
      ]
    },
    {
      "cell_type": "markdown",
      "source": [
        "Exercise: 9Use the correct short hand syntax to write the following conditional expression in one line:"
      ],
      "metadata": {
        "id": "h4uexfhCP2AX"
      }
    },
    {
      "cell_type": "code",
      "source": [
        "print(\"Yes\") if 5 > 2 else print(\"No\")"
      ],
      "metadata": {
        "id": "A22-XemKP8LY",
        "outputId": "e47adc6a-f610-4cac-e29d-09e8d0217e1a",
        "colab": {
          "base_uri": "https://localhost:8080/"
        }
      },
      "execution_count": 21,
      "outputs": [
        {
          "output_type": "stream",
          "name": "stdout",
          "text": [
            "Yes\n"
          ]
        }
      ]
    }
  ],
  "metadata": {
    "colab": {
      "collapsed_sections": [],
      "name": "Welcome To Colaboratory",
      "toc_visible": true,
      "provenance": [],
      "include_colab_link": true
    },
    "kernelspec": {
      "display_name": "Python 3",
      "name": "python3"
    }
  },
  "nbformat": 4,
  "nbformat_minor": 0
}